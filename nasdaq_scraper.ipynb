{
 "cells": [
  {
   "cell_type": "code",
   "execution_count": 10,
   "metadata": {},
   "outputs": [],
   "source": [
    "import selenium\n",
    "from selenium import webdriver \n",
    "from selenium.webdriver.common.by import By \n",
    "from selenium.webdriver.support.ui import WebDriverWait \n",
    "from selenium.webdriver.support import expected_conditions as EC \n",
    "from selenium.common.exceptions import TimeoutException\n",
    "import pandas as pd\n",
    "import time\n",
    "from tqdm import tqdm_notebook as tqdm"
   ]
  },
  {
   "cell_type": "code",
   "execution_count": 11,
   "metadata": {},
   "outputs": [],
   "source": [
    "wd = webdriver.Firefox()"
   ]
  },
  {
   "cell_type": "code",
   "execution_count": 12,
   "metadata": {},
   "outputs": [],
   "source": [
    "URL = 'https://www.nasdaq.com/screening/companies-by-industry.aspx?pagesize=200'  "
   ]
  },
  {
   "cell_type": "code",
   "execution_count": 13,
   "metadata": {},
   "outputs": [],
   "source": [
    "wd.get(URL)"
   ]
  },
  {
   "cell_type": "code",
   "execution_count": 14,
   "metadata": {},
   "outputs": [],
   "source": [
    "result = []"
   ]
  },
  {
   "cell_type": "code",
   "execution_count": 23,
   "metadata": {},
   "outputs": [],
   "source": [
    "for page in tqdm(range(35)):\n",
    "    time.sleep(3)\n",
    "    try:\n",
    "        cookie = wd.find_element_by_xpath(\".//a[@id='cookieConsentOK']\")\n",
    "        cookie.click()\n",
    "    except:\n",
    "        pass\n",
    "    s2 = wd.find_elements_by_xpath(\".//a[not(contains(@href, 'nasdaq')) and @target='_blank']/following::h3\")\n",
    "    temp_res = []\n",
    "    for elem in s2:\n",
    "        e = {}\n",
    "        try:\n",
    "            temp = elem.find_element_by_xpath(\"../..//a[not(contains(@href, 'nasdaq'))]\") \n",
    "        except:\n",
    "            continue\n",
    "        e['company_name'] = temp.text\n",
    "        e['ticker'] = elem.text\n",
    "        e['web_page'] = temp.get_attribute('href')\n",
    "        temp_res.append(e)\n",
    "\n",
    "    result.extend(temp_res)\n",
    "    time.sleep(3)\n",
    "    next = wd.find_element_by_xpath(\".//a[(contains(@id, 'main_content_lb_NextPage')) and @class='pagerlink']\")\n",
    "    next.click()"
   ]
  },
  {
   "cell_type": "code",
   "execution_count": 19,
   "metadata": {},
   "outputs": [
    {
     "data": {
      "text/plain": [
       "3413"
      ]
     },
     "execution_count": 19,
     "metadata": {},
     "output_type": "execute_result"
    }
   ],
   "source": [
    "len(result)"
   ]
  },
  {
   "cell_type": "code",
   "execution_count": 21,
   "metadata": {},
   "outputs": [],
   "source": [
    "pd.DataFrame(result).to_csv('./extendCompAddrAndTickers.tsv',sep='\\t',index=False)"
   ]
  }
 ],
 "metadata": {
  "kernelspec": {
   "display_name": "Python 3",
   "language": "python",
   "name": "python3"
  },
  "language_info": {
   "codemirror_mode": {
    "name": "ipython",
    "version": 3
   },
   "file_extension": ".py",
   "mimetype": "text/x-python",
   "name": "python",
   "nbconvert_exporter": "python",
   "pygments_lexer": "ipython3",
   "version": "3.7.1"
  }
 },
 "nbformat": 4,
 "nbformat_minor": 2
}
